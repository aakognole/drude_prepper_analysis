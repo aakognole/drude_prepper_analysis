{
 "cells": [
  {
   "cell_type": "code",
   "execution_count": 3,
   "metadata": {
    "executionInfo": {
     "elapsed": 186,
     "status": "ok",
     "timestamp": 1617134469176,
     "user": {
      "displayName": "Abhishek Kognole",
      "photoUrl": "https://lh3.googleusercontent.com/a-/AOh14GicOhCdttWjdsKZJ8_Q5Hew_qhh3Yn5T9V4P8KFJro=s64",
      "userId": "04303427201148722311"
     },
     "user_tz": 240
    },
    "id": "K5vCQtADsdkL"
   },
   "outputs": [],
   "source": [
    "import numpy as np\n",
    "import matplotlib.pyplot as plt\n",
    "import matplotlib.font_manager as font_manager\n",
    "plt.rc('axes', axisbelow=True)"
   ]
  },
  {
   "cell_type": "code",
   "execution_count": 4,
   "metadata": {
    "executionInfo": {
     "elapsed": 186,
     "status": "ok",
     "timestamp": 1617134469176,
     "user": {
      "displayName": "Abhishek Kognole",
      "photoUrl": "https://lh3.googleusercontent.com/a-/AOh14GicOhCdttWjdsKZJ8_Q5Hew_qhh3Yn5T9V4P8KFJro=s64",
      "userId": "04303427201148722311"
     },
     "user_tz": 240
    },
    "id": "K5vCQtADsdkL"
   },
   "outputs": [],
   "source": [
    "mkdir -p figures"
   ]
  },
  {
   "cell_type": "code",
   "execution_count": 5,
   "metadata": {},
   "outputs": [
    {
     "name": "stdout",
     "output_type": "stream",
     "text": [
      "Here are raw data for the TF/DNA system from 200 ns MD simulations from NAMD. Snapshots are taken every 10 ps so there is 20000 data points.\r\n",
      "\r\n",
      "As there are protein (transcript factor) and dsDNA in the system, we compute RMSDs by align the whole system to DNA (prefered) or protein.\r\n",
      "\r\n",
      "rmsd1.tfdna.data contains RMSDs of protein (all heavy atoms) and DNA (all heavy atoms) when aligning with DNA.\r\n",
      "rmsd2.tfdna.data contains RMSDs of protein (all heavy atoms) and DNA (all heavy atoms, this might not be useful)when aligning with protein.\r\n",
      "\r\n",
      "- Jing\r\n",
      "\r\n"
     ]
    }
   ],
   "source": [
    "!cat data/00README"
   ]
  },
  {
   "cell_type": "markdown",
   "metadata": {
    "id": "wRAwhrBesdkT"
   },
   "source": [
    "# RMSD"
   ]
  },
  {
   "cell_type": "code",
   "execution_count": 6,
   "metadata": {
    "colab": {
     "base_uri": "https://localhost:8080/",
     "height": 324
    },
    "executionInfo": {
     "elapsed": 208,
     "status": "error",
     "timestamp": 1617134174083,
     "user": {
      "displayName": "Abhishek Kognole",
      "photoUrl": "https://lh3.googleusercontent.com/a-/AOh14GicOhCdttWjdsKZJ8_Q5Hew_qhh3Yn5T9V4P8KFJro=s64",
      "userId": "04303427201148722311"
     },
     "user_tz": 240
    },
    "id": "vyaksBZXsdkU",
    "outputId": "7a18fcfb-3c7f-483b-a4a2-ee9752f482c0"
   },
   "outputs": [],
   "source": [
    "RMSD_proa = np.loadtxt('data/rmsd1.tfdna.dat')\n",
    "t = []\n",
    "for i in range(len(RMSD_proa[:,0])):\n",
    "    t.append(((i+1)/100))"
   ]
  },
  {
   "cell_type": "code",
   "execution_count": 7,
   "metadata": {
    "id": "J_fVThdesdkU",
    "outputId": "d926e404-fe23-4400-ddcb-e411ea05263b"
   },
   "outputs": [
    {
     "data": {
      "image/png": "[encoded data removed]",
      "text/plain": [
       "<Figure size 324x252 with 1 Axes>"
      ]
     },
     "metadata": {
      "needs_background": "light"
     },
     "output_type": "display_data"
    }
   ],
   "source": [
    "plt.figure(figsize=(4.5,3.5))\n",
    "plt.plot(t,RMSD_proa[:,0], 'b', label='TF protein')\n",
    "plt.plot(t,RMSD_proa[:,1], 'r', label='DNA')\n",
    "#--------------------------------------------------------------------------#\n",
    "plt.xlabel('Simulation Time(ns)', family=\"Arial\", size='10', weight='bold')\n",
    "plt.ylabel('RMSD ($\\AA$)', family=\"Arial\", size='10', weight='bold')\n",
    "#--------------------------------------------------------------------------#\n",
    "plt.xticks(family=\"Arial\", size='10', weight='bold')\n",
    "plt.yticks(family=\"Arial\", size='10', weight='bold')\n",
    "plt.tick_params(axis='y', which='both', left='on', right='on')\n",
    "# plt.margins(0.025)\n",
    "# plt.grid(axis='y', linestyle='dotted')\n",
    "font = font_manager.FontProperties(family=\"Arial\", size='9', weight='bold')\n",
    "plt.legend(loc='upper right', ncol=3, prop=font)#bbox_to_anchor=(0.1, 1),, fontname=\"Arial\")\n",
    "plt.tight_layout()#rect=(-0.025,0,1.025,1.025))\n",
    "#--------------------------------------------------------------------------#\n",
    "plt.savefig('./figures/RMSD.png', dpi=300)\n",
    "plt.show()"
   ]
  },
  {
   "cell_type": "code",
   "execution_count": null,
   "metadata": {
    "id": "302vmptSsdkZ"
   },
   "outputs": [],
   "source": []
  }
 ],
 "metadata": {
  "colab": {
   "name": "plots.ipynb",
   "provenance": []
  },
  "kernelspec": {
   "display_name": "Python 3 (ipykernel)",
   "language": "python",
   "name": "python3"
  },
  "language_info": {
   "codemirror_mode": {
    "name": "ipython",
    "version": 3
   },
   "file_extension": ".py",
   "mimetype": "text/x-python",
   "name": "python",
   "nbconvert_exporter": "python",
   "pygments_lexer": "ipython3",
   "version": "3.8.5"
  }
 },
 "nbformat": 4,
 "nbformat_minor": 1
}
